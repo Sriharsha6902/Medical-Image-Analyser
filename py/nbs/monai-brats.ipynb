{
 "cells": [
  {
   "cell_type": "code",
   "execution_count": 1,
   "metadata": {
    "_cell_guid": "a440e490-f208-4e95-910b-a03215bf34bb",
    "_uuid": "4092f4b5-51ef-4e47-8452-3767635a113e",
    "collapsed": false,
    "execution": {
     "iopub.execute_input": "2025-06-15T08:20:55.867043Z",
     "iopub.status.busy": "2025-06-15T08:20:55.866756Z",
     "iopub.status.idle": "2025-06-15T08:21:44.574084Z",
     "shell.execute_reply": "2025-06-15T08:21:44.573155Z",
     "shell.execute_reply.started": "2025-06-15T08:20:55.867017Z"
    },
    "jupyter": {
     "outputs_hidden": false
    },
    "trusted": true
   },
   "outputs": [],
   "source": [
    "import torch\n",
    "import os\n",
    "import matplotlib.pyplot as plt\n",
    "import numpy as np\n",
    "import glob\n",
    "\n",
    "from monai.inferers import SlidingWindowInferer\n",
    "from monai.data import DataLoader, Dataset, decollate_batch\n",
    "from monai.transforms import *\n",
    "from monai.utils import first"
   ]
  },
  {
   "cell_type": "code",
   "execution_count": 2,
   "metadata": {
    "execution": {
     "iopub.execute_input": "2025-06-15T08:21:59.841684Z",
     "iopub.status.busy": "2025-06-15T08:21:59.841271Z",
     "iopub.status.idle": "2025-06-15T08:21:59.877266Z",
     "shell.execute_reply": "2025-06-15T08:21:59.876309Z",
     "shell.execute_reply.started": "2025-06-15T08:21:59.841658Z"
    },
    "trusted": true
   },
   "outputs": [],
   "source": [
    "data_dir = \"/kaggle/input/brats20-dataset-training-validation/BraTS2020_TrainingData/MICCAI_BraTS2020_TrainingData\"\n",
    "patient_folders = sorted(glob.glob(os.path.join(data_dir, \"BraTS20_*\")))"
   ]
  },
  {
   "cell_type": "code",
   "execution_count": 4,
   "metadata": {
    "execution": {
     "iopub.execute_input": "2025-06-15T08:22:02.120444Z",
     "iopub.status.busy": "2025-06-15T08:22:02.120126Z",
     "iopub.status.idle": "2025-06-15T08:22:02.130493Z",
     "shell.execute_reply": "2025-06-15T08:22:02.129586Z",
     "shell.execute_reply.started": "2025-06-15T08:22:02.120422Z"
    },
    "trusted": true
   },
   "outputs": [],
   "source": [
    "infer_files = []\n",
    "for patient_folder in patient_folders:\n",
    "    patient_id = os.path.basename(patient_folder)\n",
    "    infer_files.append({\n",
    "        \"image_t1\": os.path.join(patient_folder, f\"{patient_id}_t1.nii\"),\n",
    "        \"image_t1ce\": os.path.join(patient_folder, f\"{patient_id}_t1ce.nii\"),\n",
    "        \"image_t2\": os.path.join(patient_folder, f\"{patient_id}_t2.nii\"),\n",
    "        \"image_flair\": os.path.join(patient_folder, f\"{patient_id}_flair.nii\"),\n",
    "    })"
   ]
  },
  {
   "cell_type": "code",
   "execution_count": 6,
   "metadata": {
    "execution": {
     "iopub.execute_input": "2025-06-15T08:22:17.246011Z",
     "iopub.status.busy": "2025-06-15T08:22:17.245098Z",
     "iopub.status.idle": "2025-06-15T08:22:17.259267Z",
     "shell.execute_reply": "2025-06-15T08:22:17.257695Z",
     "shell.execute_reply.started": "2025-06-15T08:22:17.245979Z"
    },
    "trusted": true
   },
   "outputs": [],
   "source": [
    "keys = [\"image_t1\", \"image_t1ce\", \"image_t2\", \"image_flair\"]\n",
    "\n",
    "infer_transforms = Compose(\n",
    "    [\n",
    "        LoadImaged(keys=keys),\n",
    "        EnsureChannelFirstd(keys=keys),\n",
    "        Orientationd(keys=keys, axcodes=\"RAS\"),\n",
    "        Spacingd(keys=keys, pixdim=(1.0, 1.0, 1.0), mode=\"bilinear\"),\n",
    "        ScaleIntensityRanged(keys=keys, a_min=0.0, a_max=4000.0, b_min=0.0, b_max=1.0, clip=True),\n",
    "        ConcatItemsd(keys=keys, name=\"image\", dim=0),\n",
    "    ]\n",
    ")"
   ]
  },
  {
   "cell_type": "code",
   "execution_count": 7,
   "metadata": {
    "execution": {
     "iopub.execute_input": "2025-06-15T08:22:20.201471Z",
     "iopub.status.busy": "2025-06-15T08:22:20.200396Z",
     "iopub.status.idle": "2025-06-15T08:22:20.206999Z",
     "shell.execute_reply": "2025-06-15T08:22:20.205814Z",
     "shell.execute_reply.started": "2025-06-15T08:22:20.201438Z"
    },
    "trusted": true
   },
   "outputs": [],
   "source": [
    "infer_ds_transformed = Dataset(data=[infer_files[0]], transform=infer_transforms)\n",
    "infer_loader = DataLoader(infer_ds_transformed, batch_size=1, num_workers=4)"
   ]
  },
  {
   "cell_type": "code",
   "execution_count": 8,
   "metadata": {
    "execution": {
     "iopub.execute_input": "2025-06-15T08:22:22.156385Z",
     "iopub.status.busy": "2025-06-15T08:22:22.155249Z",
     "iopub.status.idle": "2025-06-15T08:22:22.162911Z",
     "shell.execute_reply": "2025-06-15T08:22:22.161956Z",
     "shell.execute_reply.started": "2025-06-15T08:22:22.156348Z"
    },
    "trusted": true
   },
   "outputs": [
    {
     "data": {
      "text/plain": [
       "device(type='cpu')"
      ]
     },
     "execution_count": 8,
     "metadata": {},
     "output_type": "execute_result"
    }
   ],
   "source": [
    "device = torch.device('cuda' if torch.cuda.is_available() else 'cpu')\n",
    "device"
   ]
  },
  {
   "cell_type": "code",
   "execution_count": 9,
   "metadata": {
    "execution": {
     "iopub.execute_input": "2025-06-15T08:22:27.160329Z",
     "iopub.status.busy": "2025-06-15T08:22:27.159972Z",
     "iopub.status.idle": "2025-06-15T08:22:27.818999Z",
     "shell.execute_reply": "2025-06-15T08:22:27.818051Z",
     "shell.execute_reply.started": "2025-06-15T08:22:27.160299Z"
    },
    "trusted": true
   },
   "outputs": [],
   "source": [
    "model = torch.jit.load(\"/kaggle/input/monai_brats_pretrained/pytorch/pretrained/1/model.ts\", map_location=device)\n",
    "output_dir = \"./outputs_brats\"\n",
    "os.makedirs(output_dir, exist_ok=True)"
   ]
  },
  {
   "cell_type": "code",
   "execution_count": 10,
   "metadata": {
    "execution": {
     "iopub.execute_input": "2025-06-15T08:22:35.795701Z",
     "iopub.status.busy": "2025-06-15T08:22:35.795321Z",
     "iopub.status.idle": "2025-06-15T08:22:35.803738Z",
     "shell.execute_reply": "2025-06-15T08:22:35.802614Z",
     "shell.execute_reply.started": "2025-06-15T08:22:35.795675Z"
    },
    "trusted": true
   },
   "outputs": [],
   "source": [
    "inferer = SlidingWindowInferer(roi_size=(128, 128, 128), sw_batch_size=4, overlap=0.5)\n",
    "\n",
    "post_transforms = Compose([\n",
    "    AsDiscrete(argmax=True, to_onehot=3),\n",
    "    SaveImaged(\n",
    "        keys=\"pred\",\n",
    "        meta_keys=\"image_flair_meta_dict\",\n",
    "        output_dir=output_dir,\n",
    "        output_postfix=\"seg\",\n",
    "        resample=False,\n",
    "    ),\n",
    "])"
   ]
  },
  {
   "cell_type": "code",
   "execution_count": null,
   "metadata": {
    "execution": {
     "iopub.execute_input": "2025-06-15T08:22:39.330454Z",
     "iopub.status.busy": "2025-06-15T08:22:39.330008Z"
    },
    "trusted": true
   },
   "outputs": [],
   "source": [
    "model.eval()\n",
    "with torch.no_grad():\n",
    "    for infer_data in infer_loader:\n",
    "        inputs = infer_data[\"image\"].to(device)\n",
    "        outputs = inferer(inputs, model)\n",
    "\n",
    "        raw_data = first(Dataset(data=[infer_files[0]]))\n",
    "        outputs = decollate_batch(outputs)\n",
    "\n",
    "        for i, output in enumerate(outputs):\n",
    "            d = {\"pred\": output, \"image_flair_meta_dict\": raw_data['image_flair_meta_dict']}\n",
    "            post_transforms(d)\n",
    "\n",
    "\n",
    "print(f\"Inference complete. Segmentation saved to: {output_dir}\")"
   ]
  },
  {
   "cell_type": "code",
   "execution_count": null,
   "metadata": {
    "trusted": true
   },
   "outputs": [],
   "source": [
    "original_flair_path = infer_files[0][\"image_flair\"]\n",
    "base_name = os.path.basename(original_flair_path).replace(\".nii\", \"\")\n",
    "saved_seg_path = os.path.join(output_dir, f\"{base_name}_seg.nii\")\n",
    "\n",
    "flair_img = LoadImage(image_only=True)(original_flair_path)\n",
    "segmentation = LoadImage(image_only=True)(saved_seg_path)\n",
    "\n",
    "slice_idx = flair_img.shape[2] // 2\n",
    "\n",
    "plt.figure(\"BraTS Segmentation Overlay\", (12, 6))\n",
    "plt.subplot(1, 2, 1)\n",
    "plt.title(\"FLAIR Image Slice\")\n",
    "plt.imshow(flair_img[:, :, slice_idx], cmap=\"gray\", origin=\"lower\")\n",
    "plt.axis(\"off\")\n",
    "\n",
    "plt.subplot(1, 2, 2)\n",
    "plt.title(\"Segmentation Overlay on FLAIR\")\n",
    "plt.imshow(flair_img[:, :, slice_idx], cmap=\"gray\", origin=\"lower\")\n",
    "\n",
    "for i in range(segmentation.shape[0]):\n",
    "    if i == 0:\n",
    "        continue\n",
    "    plt.imshow(\n",
    "        np.ma.masked_where(segmentation[i, :, :, slice_idx] == 0, 1),\n",
    "        cmap=plt.cm.Blues if i == 1 else plt.cm.Reds,\n",
    "        alpha=0.5,\n",
    "        origin=\"lower\"\n",
    "    )\n",
    "\n",
    "plt.axis(\"off\")\n",
    "plt.tight_layout()\n",
    "plt.show()"
   ]
  }
 ],
 "metadata": {
  "kaggle": {
   "accelerator": "none",
   "dataSources": [
    {
     "datasetId": 751906,
     "sourceId": 1299795,
     "sourceType": "datasetVersion"
    },
    {
     "isSourceIdPinned": true,
     "modelId": 376615,
     "modelInstanceId": 355303,
     "sourceId": 435639,
     "sourceType": "modelInstanceVersion"
    }
   ],
   "dockerImageVersionId": 31040,
   "isGpuEnabled": false,
   "isInternetEnabled": true,
   "language": "python",
   "sourceType": "notebook"
  },
  "kernelspec": {
   "display_name": "base",
   "language": "python",
   "name": "python3"
  },
  "language_info": {
   "codemirror_mode": {
    "name": "ipython",
    "version": 3
   },
   "file_extension": ".py",
   "mimetype": "text/x-python",
   "name": "python",
   "nbconvert_exporter": "python",
   "pygments_lexer": "ipython3",
   "version": "3.12.4"
  }
 },
 "nbformat": 4,
 "nbformat_minor": 4
}
