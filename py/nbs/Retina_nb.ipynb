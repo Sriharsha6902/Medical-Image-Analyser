{
 "cells": [
  {
   "cell_type": "code",
   "execution_count": null,
   "id": "d7550f03",
   "metadata": {},
   "outputs": [],
   "source": [
    "import pandas as pd\n",
    "from fastai.vision.all import *\n",
    "import timm\n",
    "import cv2\n",
    "import numpy as np\n",
    "from sklearn.metrics import roc_auc_score, f1_score, balanced_accuracy_score"
   ]
  },
  {
   "cell_type": "code",
   "execution_count": 13,
   "id": "94f61465",
   "metadata": {},
   "outputs": [],
   "source": [
    "main_path = \"/mnt/c/Documents and Settings/sriha/Documents/DL/Datasets/Retina_DS\"\n",
    "labels_path = main_path + \"/labels\"\n",
    "train15 = \"resized_train_cropped/resized_train_cropped/\"\n",
    "test15 = \"resized test 15/\"\n",
    "train19 = \"resized train 19/\"\n",
    "format = \".jpeg\""
   ]
  },
  {
   "cell_type": "code",
   "execution_count": 14,
   "id": "641352fe",
   "metadata": {},
   "outputs": [
    {
     "data": {
      "application/vnd.microsoft.datawrangler.viewer.v0+json": {
       "columns": [
        {
         "name": "index",
         "rawType": "int64",
         "type": "integer"
        },
        {
         "name": "image",
         "rawType": "object",
         "type": "string"
        },
        {
         "name": "level",
         "rawType": "int64",
         "type": "integer"
        }
       ],
       "conversionMethod": "pd.DataFrame",
       "ref": "e50009a2-80f5-4e96-a116-0842f9a152d3",
       "rows": [
        [
         "0",
         "resized_train_cropped/resized_train_cropped/10_left.jpeg",
         "0"
        ],
        [
         "1",
         "resized_train_cropped/resized_train_cropped/10_right.jpeg",
         "0"
        ],
        [
         "2",
         "resized_train_cropped/resized_train_cropped/13_left.jpeg",
         "0"
        ],
        [
         "3",
         "resized_train_cropped/resized_train_cropped/13_right.jpeg",
         "0"
        ],
        [
         "4",
         "resized_train_cropped/resized_train_cropped/15_left.jpeg",
         "1"
        ],
        [
         "5",
         "resized_train_cropped/resized_train_cropped/15_right.jpeg",
         "2"
        ],
        [
         "6",
         "resized_train_cropped/resized_train_cropped/16_left.jpeg",
         "4"
        ],
        [
         "7",
         "resized_train_cropped/resized_train_cropped/16_right.jpeg",
         "4"
        ],
        [
         "8",
         "resized_train_cropped/resized_train_cropped/17_left.jpeg",
         "0"
        ],
        [
         "9",
         "resized_train_cropped/resized_train_cropped/17_right.jpeg",
         "1"
        ],
        [
         "10",
         "resized_train_cropped/resized_train_cropped/19_left.jpeg",
         "0"
        ],
        [
         "11",
         "resized_train_cropped/resized_train_cropped/19_right.jpeg",
         "0"
        ],
        [
         "12",
         "resized_train_cropped/resized_train_cropped/20_left.jpeg",
         "0"
        ],
        [
         "13",
         "resized_train_cropped/resized_train_cropped/20_right.jpeg",
         "0"
        ],
        [
         "14",
         "resized_train_cropped/resized_train_cropped/21_left.jpeg",
         "0"
        ],
        [
         "15",
         "resized_train_cropped/resized_train_cropped/21_right.jpeg",
         "0"
        ],
        [
         "16",
         "resized_train_cropped/resized_train_cropped/22_left.jpeg",
         "0"
        ],
        [
         "17",
         "resized_train_cropped/resized_train_cropped/22_right.jpeg",
         "0"
        ],
        [
         "18",
         "resized_train_cropped/resized_train_cropped/23_left.jpeg",
         "0"
        ],
        [
         "19",
         "resized_train_cropped/resized_train_cropped/23_right.jpeg",
         "0"
        ],
        [
         "20",
         "resized_train_cropped/resized_train_cropped/25_left.jpeg",
         "0"
        ],
        [
         "21",
         "resized_train_cropped/resized_train_cropped/25_right.jpeg",
         "0"
        ],
        [
         "22",
         "resized_train_cropped/resized_train_cropped/30_left.jpeg",
         "1"
        ],
        [
         "23",
         "resized_train_cropped/resized_train_cropped/30_right.jpeg",
         "2"
        ],
        [
         "24",
         "resized_train_cropped/resized_train_cropped/31_left.jpeg",
         "0"
        ],
        [
         "25",
         "resized_train_cropped/resized_train_cropped/31_right.jpeg",
         "0"
        ],
        [
         "26",
         "resized_train_cropped/resized_train_cropped/33_left.jpeg",
         "0"
        ],
        [
         "27",
         "resized_train_cropped/resized_train_cropped/33_right.jpeg",
         "0"
        ],
        [
         "28",
         "resized_train_cropped/resized_train_cropped/36_left.jpeg",
         "1"
        ],
        [
         "29",
         "resized_train_cropped/resized_train_cropped/36_right.jpeg",
         "0"
        ],
        [
         "30",
         "resized_train_cropped/resized_train_cropped/40_left.jpeg",
         "2"
        ],
        [
         "31",
         "resized_train_cropped/resized_train_cropped/40_right.jpeg",
         "0"
        ],
        [
         "32",
         "resized_train_cropped/resized_train_cropped/41_left.jpeg",
         "0"
        ],
        [
         "33",
         "resized_train_cropped/resized_train_cropped/41_right.jpeg",
         "0"
        ],
        [
         "34",
         "resized_train_cropped/resized_train_cropped/42_left.jpeg",
         "0"
        ],
        [
         "35",
         "resized_train_cropped/resized_train_cropped/42_right.jpeg",
         "0"
        ],
        [
         "36",
         "resized_train_cropped/resized_train_cropped/46_left.jpeg",
         "0"
        ],
        [
         "37",
         "resized_train_cropped/resized_train_cropped/46_right.jpeg",
         "0"
        ],
        [
         "38",
         "resized_train_cropped/resized_train_cropped/47_left.jpeg",
         "0"
        ],
        [
         "39",
         "resized_train_cropped/resized_train_cropped/47_right.jpeg",
         "0"
        ],
        [
         "40",
         "resized_train_cropped/resized_train_cropped/49_left.jpeg",
         "0"
        ],
        [
         "41",
         "resized_train_cropped/resized_train_cropped/49_right.jpeg",
         "0"
        ],
        [
         "42",
         "resized_train_cropped/resized_train_cropped/51_left.jpeg",
         "2"
        ],
        [
         "43",
         "resized_train_cropped/resized_train_cropped/51_right.jpeg",
         "0"
        ],
        [
         "44",
         "resized_train_cropped/resized_train_cropped/52_left.jpeg",
         "0"
        ],
        [
         "45",
         "resized_train_cropped/resized_train_cropped/52_right.jpeg",
         "0"
        ],
        [
         "46",
         "resized_train_cropped/resized_train_cropped/54_left.jpeg",
         "2"
        ],
        [
         "47",
         "resized_train_cropped/resized_train_cropped/54_right.jpeg",
         "2"
        ],
        [
         "48",
         "resized_train_cropped/resized_train_cropped/56_left.jpeg",
         "0"
        ],
        [
         "49",
         "resized_train_cropped/resized_train_cropped/56_right.jpeg",
         "0"
        ]
       ],
       "shape": {
        "columns": 2,
        "rows": 35108
       }
      },
      "text/html": [
       "<div>\n",
       "<style scoped>\n",
       "    .dataframe tbody tr th:only-of-type {\n",
       "        vertical-align: middle;\n",
       "    }\n",
       "\n",
       "    .dataframe tbody tr th {\n",
       "        vertical-align: top;\n",
       "    }\n",
       "\n",
       "    .dataframe thead th {\n",
       "        text-align: right;\n",
       "    }\n",
       "</style>\n",
       "<table border=\"1\" class=\"dataframe\">\n",
       "  <thead>\n",
       "    <tr style=\"text-align: right;\">\n",
       "      <th></th>\n",
       "      <th>image</th>\n",
       "      <th>level</th>\n",
       "    </tr>\n",
       "  </thead>\n",
       "  <tbody>\n",
       "    <tr>\n",
       "      <th>0</th>\n",
       "      <td>resized_train_cropped/resized_train_cropped/10_left.jpeg</td>\n",
       "      <td>0</td>\n",
       "    </tr>\n",
       "    <tr>\n",
       "      <th>1</th>\n",
       "      <td>resized_train_cropped/resized_train_cropped/10_right.jpeg</td>\n",
       "      <td>0</td>\n",
       "    </tr>\n",
       "    <tr>\n",
       "      <th>2</th>\n",
       "      <td>resized_train_cropped/resized_train_cropped/13_left.jpeg</td>\n",
       "      <td>0</td>\n",
       "    </tr>\n",
       "    <tr>\n",
       "      <th>3</th>\n",
       "      <td>resized_train_cropped/resized_train_cropped/13_right.jpeg</td>\n",
       "      <td>0</td>\n",
       "    </tr>\n",
       "    <tr>\n",
       "      <th>4</th>\n",
       "      <td>resized_train_cropped/resized_train_cropped/15_left.jpeg</td>\n",
       "      <td>1</td>\n",
       "    </tr>\n",
       "    <tr>\n",
       "      <th>...</th>\n",
       "      <td>...</td>\n",
       "      <td>...</td>\n",
       "    </tr>\n",
       "    <tr>\n",
       "      <th>35103</th>\n",
       "      <td>resized_train_cropped/resized_train_cropped/44347_right.jpeg</td>\n",
       "      <td>0</td>\n",
       "    </tr>\n",
       "    <tr>\n",
       "      <th>35104</th>\n",
       "      <td>resized_train_cropped/resized_train_cropped/44348_left.jpeg</td>\n",
       "      <td>0</td>\n",
       "    </tr>\n",
       "    <tr>\n",
       "      <th>35105</th>\n",
       "      <td>resized_train_cropped/resized_train_cropped/44348_right.jpeg</td>\n",
       "      <td>0</td>\n",
       "    </tr>\n",
       "    <tr>\n",
       "      <th>35106</th>\n",
       "      <td>resized_train_cropped/resized_train_cropped/44349_left.jpeg</td>\n",
       "      <td>0</td>\n",
       "    </tr>\n",
       "    <tr>\n",
       "      <th>35107</th>\n",
       "      <td>resized_train_cropped/resized_train_cropped/44349_right.jpeg</td>\n",
       "      <td>1</td>\n",
       "    </tr>\n",
       "  </tbody>\n",
       "</table>\n",
       "<p>35108 rows × 2 columns</p>\n",
       "</div>"
      ],
      "text/plain": [
       "                                                              image  level\n",
       "0          resized_train_cropped/resized_train_cropped/10_left.jpeg      0\n",
       "1         resized_train_cropped/resized_train_cropped/10_right.jpeg      0\n",
       "2          resized_train_cropped/resized_train_cropped/13_left.jpeg      0\n",
       "3         resized_train_cropped/resized_train_cropped/13_right.jpeg      0\n",
       "4          resized_train_cropped/resized_train_cropped/15_left.jpeg      1\n",
       "...                                                             ...    ...\n",
       "35103  resized_train_cropped/resized_train_cropped/44347_right.jpeg      0\n",
       "35104   resized_train_cropped/resized_train_cropped/44348_left.jpeg      0\n",
       "35105  resized_train_cropped/resized_train_cropped/44348_right.jpeg      0\n",
       "35106   resized_train_cropped/resized_train_cropped/44349_left.jpeg      0\n",
       "35107  resized_train_cropped/resized_train_cropped/44349_right.jpeg      1\n",
       "\n",
       "[35108 rows x 2 columns]"
      ]
     },
     "execution_count": 14,
     "metadata": {},
     "output_type": "execute_result"
    }
   ],
   "source": [
    "df = pd.read_csv(labels_path + \"/trainLabels_cropped.csv\")\n",
    "df.drop(columns=['Unnamed: 0.1', 'Unnamed: 0'],inplace=True)\n",
    "df['image'] = df['image'].apply(lambda x : train15 + x + format)\n",
    "df"
   ]
  },
  {
   "cell_type": "code",
   "execution_count": 15,
   "id": "20c96af7",
   "metadata": {},
   "outputs": [
    {
     "data": {
      "application/vnd.microsoft.datawrangler.viewer.v0+json": {
       "columns": [
        {
         "name": "index",
         "rawType": "int64",
         "type": "integer"
        },
        {
         "name": "image",
         "rawType": "object",
         "type": "string"
        },
        {
         "name": "level",
         "rawType": "int64",
         "type": "integer"
        }
       ],
       "conversionMethod": "pd.DataFrame",
       "ref": "72f161be-d5d2-4d04-a085-3b4a6ee9d159",
       "rows": [
        [
         "0",
         "resized test 15/1_left.jpg",
         "0"
        ],
        [
         "1",
         "resized test 15/1_right.jpg",
         "0"
        ],
        [
         "2",
         "resized test 15/2_left.jpg",
         "0"
        ],
        [
         "3",
         "resized test 15/2_right.jpg",
         "0"
        ],
        [
         "4",
         "resized test 15/3_left.jpg",
         "2"
        ],
        [
         "5",
         "resized test 15/3_right.jpg",
         "2"
        ],
        [
         "6",
         "resized test 15/4_left.jpg",
         "2"
        ],
        [
         "7",
         "resized test 15/4_right.jpg",
         "2"
        ],
        [
         "8",
         "resized test 15/5_left.jpg",
         "0"
        ],
        [
         "9",
         "resized test 15/5_right.jpg",
         "0"
        ],
        [
         "10",
         "resized test 15/6_left.jpg",
         "1"
        ],
        [
         "11",
         "resized test 15/6_right.jpg",
         "1"
        ],
        [
         "12",
         "resized test 15/7_left.jpg",
         "0"
        ],
        [
         "13",
         "resized test 15/7_right.jpg",
         "0"
        ],
        [
         "14",
         "resized test 15/8_left.jpg",
         "2"
        ],
        [
         "15",
         "resized test 15/8_right.jpg",
         "2"
        ],
        [
         "16",
         "resized test 15/9_left.jpg",
         "4"
        ],
        [
         "17",
         "resized test 15/9_right.jpg",
         "4"
        ],
        [
         "18",
         "resized test 15/11_left.jpg",
         "0"
        ],
        [
         "19",
         "resized test 15/11_right.jpg",
         "0"
        ],
        [
         "20",
         "resized test 15/12_left.jpg",
         "0"
        ],
        [
         "21",
         "resized test 15/12_right.jpg",
         "0"
        ],
        [
         "22",
         "resized test 15/14_left.jpg",
         "0"
        ],
        [
         "23",
         "resized test 15/14_right.jpg",
         "0"
        ],
        [
         "24",
         "resized test 15/18_left.jpg",
         "0"
        ],
        [
         "25",
         "resized test 15/18_right.jpg",
         "0"
        ],
        [
         "26",
         "resized test 15/24_left.jpg",
         "0"
        ],
        [
         "27",
         "resized test 15/24_right.jpg",
         "0"
        ],
        [
         "28",
         "resized test 15/26_left.jpg",
         "0"
        ],
        [
         "29",
         "resized test 15/26_right.jpg",
         "0"
        ],
        [
         "30",
         "resized test 15/27_left.jpg",
         "0"
        ],
        [
         "31",
         "resized test 15/27_right.jpg",
         "0"
        ],
        [
         "32",
         "resized test 15/28_left.jpg",
         "0"
        ],
        [
         "33",
         "resized test 15/28_right.jpg",
         "0"
        ],
        [
         "34",
         "resized test 15/29_left.jpg",
         "1"
        ],
        [
         "35",
         "resized test 15/29_right.jpg",
         "0"
        ],
        [
         "36",
         "resized test 15/32_left.jpg",
         "0"
        ],
        [
         "37",
         "resized test 15/32_right.jpg",
         "0"
        ],
        [
         "38",
         "resized test 15/34_left.jpg",
         "0"
        ],
        [
         "39",
         "resized test 15/34_right.jpg",
         "0"
        ],
        [
         "40",
         "resized test 15/35_left.jpg",
         "0"
        ],
        [
         "41",
         "resized test 15/35_right.jpg",
         "0"
        ],
        [
         "42",
         "resized test 15/37_left.jpg",
         "2"
        ],
        [
         "43",
         "resized test 15/37_right.jpg",
         "2"
        ],
        [
         "44",
         "resized test 15/38_left.jpg",
         "0"
        ],
        [
         "45",
         "resized test 15/38_right.jpg",
         "0"
        ],
        [
         "46",
         "resized test 15/39_left.jpg",
         "2"
        ],
        [
         "47",
         "resized test 15/39_right.jpg",
         "2"
        ],
        [
         "48",
         "resized test 15/43_left.jpg",
         "0"
        ],
        [
         "49",
         "resized test 15/43_right.jpg",
         "0"
        ]
       ],
       "shape": {
        "columns": 2,
        "rows": 53576
       }
      },
      "text/html": [
       "<div>\n",
       "<style scoped>\n",
       "    .dataframe tbody tr th:only-of-type {\n",
       "        vertical-align: middle;\n",
       "    }\n",
       "\n",
       "    .dataframe tbody tr th {\n",
       "        vertical-align: top;\n",
       "    }\n",
       "\n",
       "    .dataframe thead th {\n",
       "        text-align: right;\n",
       "    }\n",
       "</style>\n",
       "<table border=\"1\" class=\"dataframe\">\n",
       "  <thead>\n",
       "    <tr style=\"text-align: right;\">\n",
       "      <th></th>\n",
       "      <th>image</th>\n",
       "      <th>level</th>\n",
       "    </tr>\n",
       "  </thead>\n",
       "  <tbody>\n",
       "    <tr>\n",
       "      <th>0</th>\n",
       "      <td>resized test 15/1_left.jpg</td>\n",
       "      <td>0</td>\n",
       "    </tr>\n",
       "    <tr>\n",
       "      <th>1</th>\n",
       "      <td>resized test 15/1_right.jpg</td>\n",
       "      <td>0</td>\n",
       "    </tr>\n",
       "    <tr>\n",
       "      <th>2</th>\n",
       "      <td>resized test 15/2_left.jpg</td>\n",
       "      <td>0</td>\n",
       "    </tr>\n",
       "    <tr>\n",
       "      <th>3</th>\n",
       "      <td>resized test 15/2_right.jpg</td>\n",
       "      <td>0</td>\n",
       "    </tr>\n",
       "    <tr>\n",
       "      <th>4</th>\n",
       "      <td>resized test 15/3_left.jpg</td>\n",
       "      <td>2</td>\n",
       "    </tr>\n",
       "    <tr>\n",
       "      <th>...</th>\n",
       "      <td>...</td>\n",
       "      <td>...</td>\n",
       "    </tr>\n",
       "    <tr>\n",
       "      <th>53571</th>\n",
       "      <td>resized test 15/44346_right.jpg</td>\n",
       "      <td>0</td>\n",
       "    </tr>\n",
       "    <tr>\n",
       "      <th>53572</th>\n",
       "      <td>resized test 15/44350_left.jpg</td>\n",
       "      <td>0</td>\n",
       "    </tr>\n",
       "    <tr>\n",
       "      <th>53573</th>\n",
       "      <td>resized test 15/44350_right.jpg</td>\n",
       "      <td>0</td>\n",
       "    </tr>\n",
       "    <tr>\n",
       "      <th>53574</th>\n",
       "      <td>resized test 15/44351_left.jpg</td>\n",
       "      <td>0</td>\n",
       "    </tr>\n",
       "    <tr>\n",
       "      <th>53575</th>\n",
       "      <td>resized test 15/44351_right.jpg</td>\n",
       "      <td>0</td>\n",
       "    </tr>\n",
       "  </tbody>\n",
       "</table>\n",
       "<p>53576 rows × 2 columns</p>\n",
       "</div>"
      ],
      "text/plain": [
       "                                 image  level\n",
       "0           resized test 15/1_left.jpg      0\n",
       "1          resized test 15/1_right.jpg      0\n",
       "2           resized test 15/2_left.jpg      0\n",
       "3          resized test 15/2_right.jpg      0\n",
       "4           resized test 15/3_left.jpg      2\n",
       "...                                ...    ...\n",
       "53571  resized test 15/44346_right.jpg      0\n",
       "53572   resized test 15/44350_left.jpg      0\n",
       "53573  resized test 15/44350_right.jpg      0\n",
       "53574   resized test 15/44351_left.jpg      0\n",
       "53575  resized test 15/44351_right.jpg      0\n",
       "\n",
       "[53576 rows x 2 columns]"
      ]
     },
     "execution_count": 15,
     "metadata": {},
     "output_type": "execute_result"
    }
   ],
   "source": [
    "df2 = pd.read_csv(labels_path + \"/testLabels15.csv\")\n",
    "df2.drop(columns=[\"Usage\"],inplace=True)\n",
    "df2['image'] = df2[\"image\"].apply(lambda x : test15 + x + \".jpg\")\n",
    "df2"
   ]
  },
  {
   "cell_type": "code",
   "execution_count": 16,
   "id": "da3af23f",
   "metadata": {},
   "outputs": [
    {
     "data": {
      "application/vnd.microsoft.datawrangler.viewer.v0+json": {
       "columns": [
        {
         "name": "index",
         "rawType": "int64",
         "type": "integer"
        },
        {
         "name": "image",
         "rawType": "object",
         "type": "string"
        },
        {
         "name": "level",
         "rawType": "int64",
         "type": "integer"
        }
       ],
       "conversionMethod": "pd.DataFrame",
       "ref": "d8323519-f893-457e-87a5-a4c29be15871",
       "rows": [
        [
         "0",
         "resized train 19/000c1434d8d7.jpg",
         "2"
        ],
        [
         "1",
         "resized train 19/001639a390f0.jpg",
         "4"
        ],
        [
         "2",
         "resized train 19/0024cdab0c1e.jpg",
         "1"
        ],
        [
         "3",
         "resized train 19/002c21358ce6.jpg",
         "0"
        ],
        [
         "4",
         "resized train 19/005b95c28852.jpg",
         "0"
        ],
        [
         "5",
         "resized train 19/0083ee8054ee.jpg",
         "4"
        ],
        [
         "6",
         "resized train 19/0097f532ac9f.jpg",
         "0"
        ],
        [
         "7",
         "resized train 19/00a8624548a9.jpg",
         "2"
        ],
        [
         "8",
         "resized train 19/00b74780d31d.jpg",
         "2"
        ],
        [
         "9",
         "resized train 19/00cb6555d108.jpg",
         "1"
        ],
        [
         "10",
         "resized train 19/00cc2b75cddd.jpg",
         "0"
        ],
        [
         "11",
         "resized train 19/00e4ddff966a.jpg",
         "2"
        ],
        [
         "12",
         "resized train 19/00f6c1be5a33.jpg",
         "0"
        ],
        [
         "13",
         "resized train 19/0104b032c141.jpg",
         "3"
        ],
        [
         "14",
         "resized train 19/0124dffecf29.jpg",
         "1"
        ],
        [
         "15",
         "resized train 19/0125fbd2e791.jpg",
         "0"
        ],
        [
         "16",
         "resized train 19/012a242ac6ff.jpg",
         "2"
        ],
        [
         "17",
         "resized train 19/014508ccb9cb.jpg",
         "0"
        ],
        [
         "18",
         "resized train 19/0151781fe50b.jpg",
         "0"
        ],
        [
         "19",
         "resized train 19/0161338f53cc.jpg",
         "2"
        ],
        [
         "20",
         "resized train 19/0180bfa26c0b.jpg",
         "2"
        ],
        [
         "21",
         "resized train 19/0182152c50de.jpg",
         "0"
        ],
        [
         "22",
         "resized train 19/01b3aed3ed4c.jpg",
         "1"
        ],
        [
         "23",
         "resized train 19/01c7808d901d.jpg",
         "2"
        ],
        [
         "24",
         "resized train 19/01d9477b1171.jpg",
         "0"
        ],
        [
         "25",
         "resized train 19/01eb826f6467.jpg",
         "2"
        ],
        [
         "26",
         "resized train 19/01f7bb8be950.jpg",
         "0"
        ],
        [
         "27",
         "resized train 19/0212dd31f623.jpg",
         "0"
        ],
        [
         "28",
         "resized train 19/022f820027b8.jpg",
         "0"
        ],
        [
         "29",
         "resized train 19/0231642cf1c2.jpg",
         "0"
        ],
        [
         "30",
         "resized train 19/0232dfea7547.jpg",
         "0"
        ],
        [
         "31",
         "resized train 19/02358b47ea89.jpg",
         "0"
        ],
        [
         "32",
         "resized train 19/0243404e8a00.jpg",
         "4"
        ],
        [
         "33",
         "resized train 19/025a169a0bb0.jpg",
         "2"
        ],
        [
         "34",
         "resized train 19/02685f13cefd.jpg",
         "4"
        ],
        [
         "35",
         "resized train 19/026dcd9af143.jpg",
         "2"
        ],
        [
         "36",
         "resized train 19/02cd34a85b24.jpg",
         "0"
        ],
        [
         "37",
         "resized train 19/02da652c74b8.jpg",
         "0"
        ],
        [
         "38",
         "resized train 19/02dda30d3acf.jpg",
         "4"
        ],
        [
         "39",
         "resized train 19/0304bedad8fe.jpg",
         "0"
        ],
        [
         "40",
         "resized train 19/0318598cfd16.jpg",
         "4"
        ],
        [
         "41",
         "resized train 19/032d7b0b4bf6.jpg",
         "2"
        ],
        [
         "42",
         "resized train 19/033f2b43de6d.jpg",
         "2"
        ],
        [
         "43",
         "resized train 19/034cb07a550f.jpg",
         "4"
        ],
        [
         "44",
         "resized train 19/03676c71ed1b.jpg",
         "2"
        ],
        [
         "45",
         "resized train 19/0369f3efe69b.jpg",
         "1"
        ],
        [
         "46",
         "resized train 19/03747397839f.jpg",
         "2"
        ],
        [
         "47",
         "resized train 19/03a7f4a5786f.jpg",
         "4"
        ],
        [
         "48",
         "resized train 19/03b373718013.jpg",
         "0"
        ],
        [
         "49",
         "resized train 19/03c85870824c.jpg",
         "3"
        ]
       ],
       "shape": {
        "columns": 2,
        "rows": 3662
       }
      },
      "text/html": [
       "<div>\n",
       "<style scoped>\n",
       "    .dataframe tbody tr th:only-of-type {\n",
       "        vertical-align: middle;\n",
       "    }\n",
       "\n",
       "    .dataframe tbody tr th {\n",
       "        vertical-align: top;\n",
       "    }\n",
       "\n",
       "    .dataframe thead th {\n",
       "        text-align: right;\n",
       "    }\n",
       "</style>\n",
       "<table border=\"1\" class=\"dataframe\">\n",
       "  <thead>\n",
       "    <tr style=\"text-align: right;\">\n",
       "      <th></th>\n",
       "      <th>image</th>\n",
       "      <th>level</th>\n",
       "    </tr>\n",
       "  </thead>\n",
       "  <tbody>\n",
       "    <tr>\n",
       "      <th>0</th>\n",
       "      <td>resized train 19/000c1434d8d7.jpg</td>\n",
       "      <td>2</td>\n",
       "    </tr>\n",
       "    <tr>\n",
       "      <th>1</th>\n",
       "      <td>resized train 19/001639a390f0.jpg</td>\n",
       "      <td>4</td>\n",
       "    </tr>\n",
       "    <tr>\n",
       "      <th>2</th>\n",
       "      <td>resized train 19/0024cdab0c1e.jpg</td>\n",
       "      <td>1</td>\n",
       "    </tr>\n",
       "    <tr>\n",
       "      <th>3</th>\n",
       "      <td>resized train 19/002c21358ce6.jpg</td>\n",
       "      <td>0</td>\n",
       "    </tr>\n",
       "    <tr>\n",
       "      <th>4</th>\n",
       "      <td>resized train 19/005b95c28852.jpg</td>\n",
       "      <td>0</td>\n",
       "    </tr>\n",
       "    <tr>\n",
       "      <th>...</th>\n",
       "      <td>...</td>\n",
       "      <td>...</td>\n",
       "    </tr>\n",
       "    <tr>\n",
       "      <th>3657</th>\n",
       "      <td>resized train 19/ffa47f6a7bf4.jpg</td>\n",
       "      <td>2</td>\n",
       "    </tr>\n",
       "    <tr>\n",
       "      <th>3658</th>\n",
       "      <td>resized train 19/ffc04fed30e6.jpg</td>\n",
       "      <td>0</td>\n",
       "    </tr>\n",
       "    <tr>\n",
       "      <th>3659</th>\n",
       "      <td>resized train 19/ffcf7b45f213.jpg</td>\n",
       "      <td>2</td>\n",
       "    </tr>\n",
       "    <tr>\n",
       "      <th>3660</th>\n",
       "      <td>resized train 19/ffd97f8cd5aa.jpg</td>\n",
       "      <td>0</td>\n",
       "    </tr>\n",
       "    <tr>\n",
       "      <th>3661</th>\n",
       "      <td>resized train 19/ffec9a18a3ce.jpg</td>\n",
       "      <td>2</td>\n",
       "    </tr>\n",
       "  </tbody>\n",
       "</table>\n",
       "<p>3662 rows × 2 columns</p>\n",
       "</div>"
      ],
      "text/plain": [
       "                                  image  level\n",
       "0     resized train 19/000c1434d8d7.jpg      2\n",
       "1     resized train 19/001639a390f0.jpg      4\n",
       "2     resized train 19/0024cdab0c1e.jpg      1\n",
       "3     resized train 19/002c21358ce6.jpg      0\n",
       "4     resized train 19/005b95c28852.jpg      0\n",
       "...                                 ...    ...\n",
       "3657  resized train 19/ffa47f6a7bf4.jpg      2\n",
       "3658  resized train 19/ffc04fed30e6.jpg      0\n",
       "3659  resized train 19/ffcf7b45f213.jpg      2\n",
       "3660  resized train 19/ffd97f8cd5aa.jpg      0\n",
       "3661  resized train 19/ffec9a18a3ce.jpg      2\n",
       "\n",
       "[3662 rows x 2 columns]"
      ]
     },
     "execution_count": 16,
     "metadata": {},
     "output_type": "execute_result"
    }
   ],
   "source": [
    "df1 = pd.read_csv(labels_path + \"/trainLabels19.csv\")\n",
    "df1.rename(columns={\"id_code\":\"image\",\"diagnosis\":\"level\"},inplace=True)\n",
    "df1['image'] = df1['image'].apply(lambda x : train19 + x + \".jpg\")\n",
    "df1"
   ]
  },
  {
   "cell_type": "code",
   "execution_count": 17,
   "id": "68a6a035",
   "metadata": {},
   "outputs": [
    {
     "data": {
      "application/vnd.microsoft.datawrangler.viewer.v0+json": {
       "columns": [
        {
         "name": "index",
         "rawType": "int64",
         "type": "integer"
        },
        {
         "name": "image",
         "rawType": "object",
         "type": "string"
        },
        {
         "name": "level",
         "rawType": "int64",
         "type": "integer"
        }
       ],
       "conversionMethod": "pd.DataFrame",
       "ref": "08e959b2-4039-46ba-ac69-7f1a8c0f1b6e",
       "rows": [
        [
         "0",
         "resized_train_cropped/resized_train_cropped/10_left.jpeg",
         "0"
        ],
        [
         "1",
         "resized_train_cropped/resized_train_cropped/10_right.jpeg",
         "0"
        ],
        [
         "2",
         "resized_train_cropped/resized_train_cropped/13_left.jpeg",
         "0"
        ],
        [
         "3",
         "resized_train_cropped/resized_train_cropped/13_right.jpeg",
         "0"
        ],
        [
         "4",
         "resized_train_cropped/resized_train_cropped/15_left.jpeg",
         "1"
        ],
        [
         "5",
         "resized_train_cropped/resized_train_cropped/15_right.jpeg",
         "2"
        ],
        [
         "6",
         "resized_train_cropped/resized_train_cropped/16_left.jpeg",
         "4"
        ],
        [
         "7",
         "resized_train_cropped/resized_train_cropped/16_right.jpeg",
         "4"
        ],
        [
         "8",
         "resized_train_cropped/resized_train_cropped/17_left.jpeg",
         "0"
        ],
        [
         "9",
         "resized_train_cropped/resized_train_cropped/17_right.jpeg",
         "1"
        ],
        [
         "10",
         "resized_train_cropped/resized_train_cropped/19_left.jpeg",
         "0"
        ],
        [
         "11",
         "resized_train_cropped/resized_train_cropped/19_right.jpeg",
         "0"
        ],
        [
         "12",
         "resized_train_cropped/resized_train_cropped/20_left.jpeg",
         "0"
        ],
        [
         "13",
         "resized_train_cropped/resized_train_cropped/20_right.jpeg",
         "0"
        ],
        [
         "14",
         "resized_train_cropped/resized_train_cropped/21_left.jpeg",
         "0"
        ],
        [
         "15",
         "resized_train_cropped/resized_train_cropped/21_right.jpeg",
         "0"
        ],
        [
         "16",
         "resized_train_cropped/resized_train_cropped/22_left.jpeg",
         "0"
        ],
        [
         "17",
         "resized_train_cropped/resized_train_cropped/22_right.jpeg",
         "0"
        ],
        [
         "18",
         "resized_train_cropped/resized_train_cropped/23_left.jpeg",
         "0"
        ],
        [
         "19",
         "resized_train_cropped/resized_train_cropped/23_right.jpeg",
         "0"
        ],
        [
         "20",
         "resized_train_cropped/resized_train_cropped/25_left.jpeg",
         "0"
        ],
        [
         "21",
         "resized_train_cropped/resized_train_cropped/25_right.jpeg",
         "0"
        ],
        [
         "22",
         "resized_train_cropped/resized_train_cropped/30_left.jpeg",
         "1"
        ],
        [
         "23",
         "resized_train_cropped/resized_train_cropped/30_right.jpeg",
         "2"
        ],
        [
         "24",
         "resized_train_cropped/resized_train_cropped/31_left.jpeg",
         "0"
        ],
        [
         "25",
         "resized_train_cropped/resized_train_cropped/31_right.jpeg",
         "0"
        ],
        [
         "26",
         "resized_train_cropped/resized_train_cropped/33_left.jpeg",
         "0"
        ],
        [
         "27",
         "resized_train_cropped/resized_train_cropped/33_right.jpeg",
         "0"
        ],
        [
         "28",
         "resized_train_cropped/resized_train_cropped/36_left.jpeg",
         "1"
        ],
        [
         "29",
         "resized_train_cropped/resized_train_cropped/36_right.jpeg",
         "0"
        ],
        [
         "30",
         "resized_train_cropped/resized_train_cropped/40_left.jpeg",
         "2"
        ],
        [
         "31",
         "resized_train_cropped/resized_train_cropped/40_right.jpeg",
         "0"
        ],
        [
         "32",
         "resized_train_cropped/resized_train_cropped/41_left.jpeg",
         "0"
        ],
        [
         "33",
         "resized_train_cropped/resized_train_cropped/41_right.jpeg",
         "0"
        ],
        [
         "34",
         "resized_train_cropped/resized_train_cropped/42_left.jpeg",
         "0"
        ],
        [
         "35",
         "resized_train_cropped/resized_train_cropped/42_right.jpeg",
         "0"
        ],
        [
         "36",
         "resized_train_cropped/resized_train_cropped/46_left.jpeg",
         "0"
        ],
        [
         "37",
         "resized_train_cropped/resized_train_cropped/46_right.jpeg",
         "0"
        ],
        [
         "38",
         "resized_train_cropped/resized_train_cropped/47_left.jpeg",
         "0"
        ],
        [
         "39",
         "resized_train_cropped/resized_train_cropped/47_right.jpeg",
         "0"
        ],
        [
         "40",
         "resized_train_cropped/resized_train_cropped/49_left.jpeg",
         "0"
        ],
        [
         "41",
         "resized_train_cropped/resized_train_cropped/49_right.jpeg",
         "0"
        ],
        [
         "42",
         "resized_train_cropped/resized_train_cropped/51_left.jpeg",
         "2"
        ],
        [
         "43",
         "resized_train_cropped/resized_train_cropped/51_right.jpeg",
         "0"
        ],
        [
         "44",
         "resized_train_cropped/resized_train_cropped/52_left.jpeg",
         "0"
        ],
        [
         "45",
         "resized_train_cropped/resized_train_cropped/52_right.jpeg",
         "0"
        ],
        [
         "46",
         "resized_train_cropped/resized_train_cropped/54_left.jpeg",
         "2"
        ],
        [
         "47",
         "resized_train_cropped/resized_train_cropped/54_right.jpeg",
         "2"
        ],
        [
         "48",
         "resized_train_cropped/resized_train_cropped/56_left.jpeg",
         "0"
        ],
        [
         "49",
         "resized_train_cropped/resized_train_cropped/56_right.jpeg",
         "0"
        ]
       ],
       "shape": {
        "columns": 2,
        "rows": 92346
       }
      },
      "text/html": [
       "<div>\n",
       "<style scoped>\n",
       "    .dataframe tbody tr th:only-of-type {\n",
       "        vertical-align: middle;\n",
       "    }\n",
       "\n",
       "    .dataframe tbody tr th {\n",
       "        vertical-align: top;\n",
       "    }\n",
       "\n",
       "    .dataframe thead th {\n",
       "        text-align: right;\n",
       "    }\n",
       "</style>\n",
       "<table border=\"1\" class=\"dataframe\">\n",
       "  <thead>\n",
       "    <tr style=\"text-align: right;\">\n",
       "      <th></th>\n",
       "      <th>image</th>\n",
       "      <th>level</th>\n",
       "    </tr>\n",
       "  </thead>\n",
       "  <tbody>\n",
       "    <tr>\n",
       "      <th>0</th>\n",
       "      <td>resized_train_cropped/resized_train_cropped/10_left.jpeg</td>\n",
       "      <td>0</td>\n",
       "    </tr>\n",
       "    <tr>\n",
       "      <th>1</th>\n",
       "      <td>resized_train_cropped/resized_train_cropped/10_right.jpeg</td>\n",
       "      <td>0</td>\n",
       "    </tr>\n",
       "    <tr>\n",
       "      <th>2</th>\n",
       "      <td>resized_train_cropped/resized_train_cropped/13_left.jpeg</td>\n",
       "      <td>0</td>\n",
       "    </tr>\n",
       "    <tr>\n",
       "      <th>3</th>\n",
       "      <td>resized_train_cropped/resized_train_cropped/13_right.jpeg</td>\n",
       "      <td>0</td>\n",
       "    </tr>\n",
       "    <tr>\n",
       "      <th>4</th>\n",
       "      <td>resized_train_cropped/resized_train_cropped/15_left.jpeg</td>\n",
       "      <td>1</td>\n",
       "    </tr>\n",
       "    <tr>\n",
       "      <th>...</th>\n",
       "      <td>...</td>\n",
       "      <td>...</td>\n",
       "    </tr>\n",
       "    <tr>\n",
       "      <th>53571</th>\n",
       "      <td>resized test 15/44346_right.jpg</td>\n",
       "      <td>0</td>\n",
       "    </tr>\n",
       "    <tr>\n",
       "      <th>53572</th>\n",
       "      <td>resized test 15/44350_left.jpg</td>\n",
       "      <td>0</td>\n",
       "    </tr>\n",
       "    <tr>\n",
       "      <th>53573</th>\n",
       "      <td>resized test 15/44350_right.jpg</td>\n",
       "      <td>0</td>\n",
       "    </tr>\n",
       "    <tr>\n",
       "      <th>53574</th>\n",
       "      <td>resized test 15/44351_left.jpg</td>\n",
       "      <td>0</td>\n",
       "    </tr>\n",
       "    <tr>\n",
       "      <th>53575</th>\n",
       "      <td>resized test 15/44351_right.jpg</td>\n",
       "      <td>0</td>\n",
       "    </tr>\n",
       "  </tbody>\n",
       "</table>\n",
       "<p>92346 rows × 2 columns</p>\n",
       "</div>"
      ],
      "text/plain": [
       "                                                           image  level\n",
       "0       resized_train_cropped/resized_train_cropped/10_left.jpeg      0\n",
       "1      resized_train_cropped/resized_train_cropped/10_right.jpeg      0\n",
       "2       resized_train_cropped/resized_train_cropped/13_left.jpeg      0\n",
       "3      resized_train_cropped/resized_train_cropped/13_right.jpeg      0\n",
       "4       resized_train_cropped/resized_train_cropped/15_left.jpeg      1\n",
       "...                                                          ...    ...\n",
       "53571                            resized test 15/44346_right.jpg      0\n",
       "53572                             resized test 15/44350_left.jpg      0\n",
       "53573                            resized test 15/44350_right.jpg      0\n",
       "53574                             resized test 15/44351_left.jpg      0\n",
       "53575                            resized test 15/44351_right.jpg      0\n",
       "\n",
       "[92346 rows x 2 columns]"
      ]
     },
     "execution_count": 17,
     "metadata": {},
     "output_type": "execute_result"
    }
   ],
   "source": [
    "train_df = pd.concat([df,df1,df2],axis=0)\n",
    "train_df.drop_duplicates(inplace=True)\n",
    "train_df"
   ]
  },
  {
   "cell_type": "code",
   "execution_count": 18,
   "id": "e5bfe2a7",
   "metadata": {},
   "outputs": [],
   "source": [
    "class GaussianBlurTransform(RandTransform):\n",
    "    def _init_(self, p=0.5, ksize=(5,5), sigmaX=0):\n",
    "        super()._init_(p=p)\n",
    "        self.ksize = ksize\n",
    "        self.sigmaX = sigmaX\n",
    "\n",
    "    def encodes(self, img: PILImage):\n",
    "        arr = np.array(img)\n",
    "        arr = cv2.GaussianBlur(arr, self.ksize, self.sigmaX)\n",
    "        return PILImage.create(arr)\n"
   ]
  },
  {
   "cell_type": "code",
   "execution_count": 19,
   "id": "ce0474be",
   "metadata": {},
   "outputs": [],
   "source": [
    "# target_max_rotate = 180.\n",
    "# target_min_zoom = 1.0 - 0.2\n",
    "# target_max_zoom = 1.0 + 0.2\n",
    "# target_max_lighting = 0.2\n",
    "# target_max_warp = 0.2\n",
    "# target_do_flip = True\n",
    "\n",
    "# batch_tfms = aug_transforms(\n",
    "#     mult=1.0,\n",
    "#     do_flip=target_do_flip,\n",
    "#     flip_vert=False,\n",
    "#     max_rotate=target_max_rotate,\n",
    "#     min_zoom=target_min_zoom,\n",
    "#     max_zoom=target_max_zoom,\n",
    "#     max_lighting=target_max_lighting,\n",
    "#     max_warp=target_max_warp,\n",
    "#     p_affine=0.75,\n",
    "#     p_lighting=0.75\n",
    "# )"
   ]
  },
  {
   "cell_type": "code",
   "execution_count": 32,
   "id": "bd256890",
   "metadata": {},
   "outputs": [],
   "source": [
    "class CLAHETransformBW(Transform):\n",
    "    def __init__(self, clip_limit=2.0, tile_grid_size=(8, 8), p=0.5):\n",
    "        self.clip_limit = clip_limit\n",
    "        self.tile_grid_size = tile_grid_size\n",
    "        self.p = p\n",
    "\n",
    "    def encodes(self, img: PILImage):\n",
    "        if np.random.rand() > self.p:\n",
    "            return img\n",
    "\n",
    "        img_np = np.array(img.convert(\"L\")) \n",
    "        clahe = cv2.createCLAHE(clipLimit=self.clip_limit, tileGridSize=self.tile_grid_size)\n",
    "        cl = clahe.apply(img_np)\n",
    "\n",
    "        cl_rgb = cv2.cvtColor(cl, cv2.COLOR_GRAY2RGB)\n",
    "\n",
    "        return PILImage.create(cl_rgb)"
   ]
  },
  {
   "cell_type": "code",
   "execution_count": null,
   "id": "a765c4fd",
   "metadata": {},
   "outputs": [],
   "source": [
    "batch_tfms = aug_transforms(\n",
    "    do_flip=True,\n",
    "    flip_vert=False,\n",
    "    max_rotate=180.,\n",
    "    max_zoom=1.2,\n",
    "    max_warp=0.2,\n",
    "    max_lighting=0.2,\n",
    "    p_lighting=0.75,\n",
    "    xtra_tfms=[\n",
    "        RandomResizedCrop(224, min_scale=0.8),\n",
    "        CLAHETransformBW(clip_limit=2.0, tile_grid_size=(8, 8), p=0.5),\n",
    "        Brightness(max_lighting=0.2, p=0.5),\n",
    "        Contrast(max_lighting=0.2, p=0.5),\n",
    "        Saturation(max_lighting=0.2, p=0.5),\n",
    "        GaussianBlurTransform(p=0.3),\n",
    "        RandomErasing(p=0.1)\n",
    "    ]\n",
    ")"
   ]
  },
  {
   "cell_type": "code",
   "execution_count": 51,
   "id": "0e7c4dc5",
   "metadata": {},
   "outputs": [
    {
     "data": {
      "text/plain": [
       "(73877, 18469)"
      ]
     },
     "execution_count": 51,
     "metadata": {},
     "output_type": "execute_result"
    }
   ],
   "source": [
    "dls = ImageDataLoaders.from_df(\n",
    "    train_df,\n",
    "    valid_pct=0.2,\n",
    "    path=Path(main_path),\n",
    "    fn_col='image',\n",
    "    label_col='level',\n",
    "    item_tfms=Resize(512),\n",
    "    bs=8,\n",
    "    batch_tfms=batch_tfms\n",
    ")\n",
    "len(dls.train_ds), len(dls.valid_ds)"
   ]
  },
  {
   "cell_type": "code",
   "execution_count": 55,
   "id": "c55b7940",
   "metadata": {},
   "outputs": [
    {
     "data": {
      "image/png": "[encoded data removed]",
      "text/plain": [
       "<Figure size 800x800 with 8 Axes>"
      ]
     },
     "metadata": {},
     "output_type": "display_data"
    }
   ],
   "source": [
    "dls.show_batch(max_n=9, figsize=(8,8))"
   ]
  },
  {
   "cell_type": "code",
   "execution_count": null,
   "id": "7d6aea36",
   "metadata": {},
   "outputs": [],
   "source": [
    "def roc_auc_macro(preds, targs):\n",
    "    preds = preds.softmax(dim=1).cpu().numpy()\n",
    "    targs = targs.cpu().numpy()\n",
    "    return roc_auc_score(targs, preds, multi_class='ovr', average='macro')\n",
    "\n",
    "def f1_macro(preds, targs):\n",
    "    preds = preds.argmax(dim=-1).cpu().numpy()\n",
    "    targs = targs.cpu().numpy()\n",
    "    return f1_score(targs, preds, average='macro')\n",
    "\n",
    "def balanacc_macro(preds,targs):\n",
    "    preds = preds.argmax(dim=-1).cpu().numpy()\n",
    "    targs = targs.cpu().numpy()\n",
    "    return balanced_accuracy_score(targs, preds)"
   ]
  },
  {
   "cell_type": "code",
   "execution_count": null,
   "id": "ca6bb6da",
   "metadata": {},
   "outputs": [],
   "source": [
    "learn = vision_learner(dls, 'tiny_vit_21m_512', metrics=[accuracy,balanacc_macro,f1_macro,roc_auc_macro],n_out=5,opt_func=Adam)"
   ]
  },
  {
   "cell_type": "code",
   "execution_count": null,
   "id": "891de8d2",
   "metadata": {},
   "outputs": [],
   "source": [
    "learn.lr_find()"
   ]
  },
  {
   "cell_type": "code",
   "execution_count": 11,
   "id": "5549c7a8",
   "metadata": {},
   "outputs": [
    {
     "data": {
      "text/html": [
       "\n",
       "<style>\n",
       "    /* Turns off some styling */\n",
       "    progress {\n",
       "        /* gets rid of default border in Firefox and Opera. */\n",
       "        border: none;\n",
       "        /* Needs to be in here for Safari polyfill so background images work as expected. */\n",
       "        background-size: auto;\n",
       "    }\n",
       "    progress:not([value]), progress:not([value])::-webkit-progress-bar {\n",
       "        background: repeating-linear-gradient(45deg, #7e7e7e, #7e7e7e 10px, #5c5c5c 10px, #5c5c5c 20px);\n",
       "    }\n",
       "    .progress-bar-interrupted, .progress-bar-interrupted::-webkit-progress-bar {\n",
       "        background: #F44336;\n",
       "    }\n",
       "</style>\n"
      ],
      "text/plain": [
       "<IPython.core.display.HTML object>"
      ]
     },
     "metadata": {},
     "output_type": "display_data"
    },
    {
     "data": {
      "text/html": [
       "<table border=\"1\" class=\"dataframe\">\n",
       "  <thead>\n",
       "    <tr style=\"text-align: left;\">\n",
       "      <th>epoch</th>\n",
       "      <th>train_loss</th>\n",
       "      <th>valid_loss</th>\n",
       "      <th>accuracy</th>\n",
       "      <th>error_rate</th>\n",
       "      <th>time</th>\n",
       "    </tr>\n",
       "  </thead>\n",
       "  <tbody>\n",
       "    <tr>\n",
       "      <td>0</td>\n",
       "      <td>0.766498</td>\n",
       "      <td>0.743174</td>\n",
       "      <td>0.765120</td>\n",
       "      <td>0.234880</td>\n",
       "      <td>15:37</td>\n",
       "    </tr>\n",
       "  </tbody>\n",
       "</table>"
      ],
      "text/plain": [
       "<IPython.core.display.HTML object>"
      ]
     },
     "metadata": {},
     "output_type": "display_data"
    },
    {
     "data": {
      "text/html": [
       "\n",
       "<style>\n",
       "    /* Turns off some styling */\n",
       "    progress {\n",
       "        /* gets rid of default border in Firefox and Opera. */\n",
       "        border: none;\n",
       "        /* Needs to be in here for Safari polyfill so background images work as expected. */\n",
       "        background-size: auto;\n",
       "    }\n",
       "    progress:not([value]), progress:not([value])::-webkit-progress-bar {\n",
       "        background: repeating-linear-gradient(45deg, #7e7e7e, #7e7e7e 10px, #5c5c5c 10px, #5c5c5c 20px);\n",
       "    }\n",
       "    .progress-bar-interrupted, .progress-bar-interrupted::-webkit-progress-bar {\n",
       "        background: #F44336;\n",
       "    }\n",
       "</style>\n"
      ],
      "text/plain": [
       "<IPython.core.display.HTML object>"
      ]
     },
     "metadata": {},
     "output_type": "display_data"
    },
    {
     "data": {
      "text/html": [
       "\n",
       "    <div>\n",
       "      <progress value='7' class='' max='20' style='width:300px; height:20px; vertical-align: middle;'></progress>\n",
       "      35.00% [7/20 3:15:59&lt;6:03:58]\n",
       "    </div>\n",
       "    \n",
       "<table border=\"1\" class=\"dataframe\">\n",
       "  <thead>\n",
       "    <tr style=\"text-align: left;\">\n",
       "      <th>epoch</th>\n",
       "      <th>train_loss</th>\n",
       "      <th>valid_loss</th>\n",
       "      <th>accuracy</th>\n",
       "      <th>error_rate</th>\n",
       "      <th>time</th>\n",
       "    </tr>\n",
       "  </thead>\n",
       "  <tbody>\n",
       "    <tr>\n",
       "      <td>0</td>\n",
       "      <td>0.634745</td>\n",
       "      <td>0.625304</td>\n",
       "      <td>0.793492</td>\n",
       "      <td>0.206508</td>\n",
       "      <td>28:00</td>\n",
       "    </tr>\n",
       "    <tr>\n",
       "      <td>1</td>\n",
       "      <td>0.596199</td>\n",
       "      <td>0.559986</td>\n",
       "      <td>0.819590</td>\n",
       "      <td>0.180410</td>\n",
       "      <td>27:59</td>\n",
       "    </tr>\n",
       "    <tr>\n",
       "      <td>2</td>\n",
       "      <td>0.579403</td>\n",
       "      <td>0.559015</td>\n",
       "      <td>0.821701</td>\n",
       "      <td>0.178299</td>\n",
       "      <td>27:58</td>\n",
       "    </tr>\n",
       "    <tr>\n",
       "      <td>3</td>\n",
       "      <td>0.579566</td>\n",
       "      <td>0.525531</td>\n",
       "      <td>0.825816</td>\n",
       "      <td>0.174184</td>\n",
       "      <td>28:02</td>\n",
       "    </tr>\n",
       "    <tr>\n",
       "      <td>4</td>\n",
       "      <td>0.508897</td>\n",
       "      <td>0.522690</td>\n",
       "      <td>0.832043</td>\n",
       "      <td>0.167957</td>\n",
       "      <td>27:57</td>\n",
       "    </tr>\n",
       "    <tr>\n",
       "      <td>5</td>\n",
       "      <td>0.571148</td>\n",
       "      <td>0.503580</td>\n",
       "      <td>0.839569</td>\n",
       "      <td>0.160431</td>\n",
       "      <td>28:02</td>\n",
       "    </tr>\n",
       "    <tr>\n",
       "      <td>6</td>\n",
       "      <td>0.482471</td>\n",
       "      <td>0.535741</td>\n",
       "      <td>0.832639</td>\n",
       "      <td>0.167362</td>\n",
       "      <td>28:00</td>\n",
       "    </tr>\n",
       "  </tbody>\n",
       "</table><p>\n",
       "\n",
       "    <div>\n",
       "      <progress value='220' class='' max='4617' style='width:300px; height:20px; vertical-align: middle;'></progress>\n",
       "      4.76% [220/4617 01:18&lt;26:01 0.5448]\n",
       "    </div>\n",
       "    "
      ],
      "text/plain": [
       "<IPython.core.display.HTML object>"
      ]
     },
     "metadata": {},
     "output_type": "display_data"
    },
    {
     "name": "stdout",
     "output_type": "stream",
     "text": [
      "Stopped due to manual intervention\n"
     ]
    }
   ],
   "source": [
    "try:\n",
    "    learn.fine_tune(20)\n",
    "except KeyboardInterrupt:\n",
    "    print(\"Stopped due to manual intervention\")"
   ]
  },
  {
   "cell_type": "code",
   "execution_count": 12,
   "id": "92a04c5c",
   "metadata": {},
   "outputs": [],
   "source": [
    "learn.export(\"/mnt/c/Documents and Settings/sriha/Documents/DL/models/retina_convnext_tiny_93K.pth\")"
   ]
  },
  {
   "cell_type": "code",
   "execution_count": null,
   "id": "6ca6e1cb",
   "metadata": {},
   "outputs": [],
   "source": []
  }
 ],
 "metadata": {
  "kernelspec": {
   "display_name": "base",
   "language": "python",
   "name": "python3"
  },
  "language_info": {
   "codemirror_mode": {
    "name": "ipython",
    "version": 3
   },
   "file_extension": ".py",
   "mimetype": "text/x-python",
   "name": "python",
   "nbconvert_exporter": "python",
   "pygments_lexer": "ipython3",
   "version": "3.12.4"
  }
 },
 "nbformat": 4,
 "nbformat_minor": 5
}
